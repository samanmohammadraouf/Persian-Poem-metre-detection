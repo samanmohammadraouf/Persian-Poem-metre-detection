{
  "cells": [
    {
      "cell_type": "markdown",
      "metadata": {
        "id": "aCKooe4KL_zo"
      },
      "source": [
        "# Transformer based Seq2Seq Approach"
      ]
    },
    {
      "cell_type": "markdown",
      "metadata": {
        "id": "hAwA4tMAMIdP"
      },
      "source": [
        "a - load libs"
      ]
    },
    {
      "cell_type": "code",
      "execution_count": null,
      "metadata": {
        "id": "fp3XrRacLxLz"
      },
      "outputs": [],
      "source": [
        "import pandas as pd\n",
        "import torch\n",
        "import torch.nn as nn\n",
        "import torch.optim as optim\n",
        "from torch.utils.data import Dataset, DataLoader\n",
        "from transformers import AutoTokenizer, AutoModel\n",
        "import torch.nn.functional as F\n",
        "from sklearn.metrics import accuracy_score, f1_score, recall_score, confusion_matrix\n",
        "import matplotlib.pyplot as plt\n",
        "import seaborn as sns\n",
        "import numpy as np\n",
        "import nltk\n",
        "import torch\n",
        "import pandas as pd\n",
        "from transformers import AutoTokenizer, AutoModel\n",
        "from torch.utils.data import DataLoader\n",
        "from sklearn.preprocessing import LabelEncoder\n",
        "import re\n",
        "import math"
      ]
    },
    {
      "cell_type": "code",
      "execution_count": null,
      "metadata": {
        "colab": {
          "base_uri": "https://localhost:8080/"
        },
        "id": "05WVmV4uMG4O",
        "outputId": "ca5474b7-c7f8-44ab-e651-9737b05cf09b"
      },
      "outputs": [
        {
          "name": "stdout",
          "output_type": "stream",
          "text": [
            "Requirement already satisfied: nltk in /usr/local/lib/python3.10/dist-packages (3.9.1)\n",
            "Requirement already satisfied: click in /usr/local/lib/python3.10/dist-packages (from nltk) (8.1.7)\n",
            "Requirement already satisfied: joblib in /usr/local/lib/python3.10/dist-packages (from nltk) (1.4.2)\n",
            "Requirement already satisfied: regex>=2021.8.3 in /usr/local/lib/python3.10/dist-packages (from nltk) (2024.9.11)\n",
            "Requirement already satisfied: tqdm in /usr/local/lib/python3.10/dist-packages (from nltk) (4.66.5)\n"
          ]
        }
      ],
      "source": [
        "!pip install --upgrade nltk"
      ]
    },
    {
      "cell_type": "code",
      "execution_count": null,
      "metadata": {
        "id": "iVjJm6-QMHhi"
      },
      "outputs": [],
      "source": [
        "device = torch.device(\"cuda\" if torch.cuda.is_available() else \"cpu\")"
      ]
    },
    {
      "cell_type": "code",
      "execution_count": null,
      "metadata": {
        "colab": {
          "base_uri": "https://localhost:8080/"
        },
        "id": "dc3fJLFOMOnK",
        "outputId": "7b22a35c-e7dd-4306-bc0e-3d979b52f68c"
      },
      "outputs": [
        {
          "data": {
            "text/plain": [
              "device(type='cuda')"
            ]
          },
          "execution_count": 4,
          "metadata": {},
          "output_type": "execute_result"
        }
      ],
      "source": [
        "device"
      ]
    },
    {
      "cell_type": "markdown",
      "metadata": {
        "id": "YgEQqkYSMJ19"
      },
      "source": [
        "b - loading ParsBERT for tokenization and embedding"
      ]
    },
    {
      "cell_type": "code",
      "execution_count": null,
      "metadata": {
        "colab": {
          "base_uri": "https://localhost:8080/",
          "height": 276,
          "referenced_widgets": [
            "c421bee4121442e38ad1ae0b940f4f27",
            "e74b8bde1c8441189b9c0d79d7e1ee38",
            "708e9c54eede43dfbfb2c3ef2ce02580",
            "8b202a0b2f20427487de5857fc65dcc8",
            "7cd7d72fa68c4524957b76a6eba7cf10",
            "2eeb3f9ceeaf4a45b2334c9d8e6d26d9",
            "455a4c40044343e79f117eb57fa0bed7",
            "ad45dd3b97a14c2b91a25de00be8f8fb",
            "d48df4eac5e84561ba3fc3a0b6b9c77d",
            "48685df11adb469997dfe9c94365281c",
            "3c1a1b93b52b4cd7999284722dad661a",
            "8fcae2be5b274d64bb8d0a13aae3e7df",
            "800ccabd8b4743bfbfb4ebdbea730577",
            "624e8385d30b4513af03da9f877325fe",
            "88fde30b24de4aacbe3e6386c508ed52",
            "4253744dc5144bfea39830aa559cd676",
            "783f8a6e89fe4a5db5d7951a2a1ca65f",
            "7c3929c193f44c77a0b9b618da2d90e3",
            "2d4ff44300a9406cbdb539f0359e3b5f",
            "c6ecbee0d82f494fae3cca8e48d6696d",
            "b9eeaf9107e948fd9f5748f85f0a9938",
            "e1a15152e952423e9bc15ac42a576929",
            "6171d3a0abe84c82a3a281e6268847ef",
            "249e4ed06d6b443681193d7e9cf35621",
            "b9958ec803c74c1aa6395cd24a557685",
            "38ed74dab9e84d42a7b22db1acd35d6f",
            "0bda37cef5324cfeba092b1ea0661e2a",
            "d6a4a2309d4546879c20fc703d974664",
            "0ce699a81c614ea69662c8073dd23c2b",
            "ab777783796b4696a75066777b6c3d64",
            "da9fc34c9932480f86b687ea6786361e",
            "1fb01992d34d4a75903d80b22070c8eb",
            "68da31bd1a4d408a96093f5aad6ff25e"
          ]
        },
        "id": "UEayktt4MQVi",
        "outputId": "dd41919a-8832-44d3-feb7-0f2b43c4eeef"
      },
      "outputs": [
        {
          "name": "stderr",
          "output_type": "stream",
          "text": [
            "/usr/local/lib/python3.10/dist-packages/huggingface_hub/utils/_token.py:89: UserWarning: \n",
            "The secret `HF_TOKEN` does not exist in your Colab secrets.\n",
            "To authenticate with the Hugging Face Hub, create a token in your settings tab (https://huggingface.co/settings/tokens), set it as secret in your Google Colab and restart your session.\n",
            "You will be able to reuse this secret in all of your notebooks.\n",
            "Please note that authentication is recommended but still optional to access public models or datasets.\n",
            "  warnings.warn(\n"
          ]
        },
        {
          "data": {
            "application/vnd.jupyter.widget-view+json": {
              "model_id": "c421bee4121442e38ad1ae0b940f4f27",
              "version_major": 2,
              "version_minor": 0
            },
            "text/plain": [
              "config.json:   0%|          | 0.00/434 [00:00<?, ?B/s]"
            ]
          },
          "metadata": {},
          "output_type": "display_data"
        },
        {
          "data": {
            "application/vnd.jupyter.widget-view+json": {
              "model_id": "8fcae2be5b274d64bb8d0a13aae3e7df",
              "version_major": 2,
              "version_minor": 0
            },
            "text/plain": [
              "vocab.txt:   0%|          | 0.00/1.22M [00:00<?, ?B/s]"
            ]
          },
          "metadata": {},
          "output_type": "display_data"
        },
        {
          "name": "stderr",
          "output_type": "stream",
          "text": [
            "/usr/local/lib/python3.10/dist-packages/transformers/tokenization_utils_base.py:1601: FutureWarning: `clean_up_tokenization_spaces` was not set. It will be set to `True` by default. This behavior will be depracted in transformers v4.45, and will be then set to `False` by default. For more details check this issue: https://github.com/huggingface/transformers/issues/31884\n",
            "  warnings.warn(\n"
          ]
        },
        {
          "data": {
            "application/vnd.jupyter.widget-view+json": {
              "model_id": "6171d3a0abe84c82a3a281e6268847ef",
              "version_major": 2,
              "version_minor": 0
            },
            "text/plain": [
              "pytorch_model.bin:   0%|          | 0.00/654M [00:00<?, ?B/s]"
            ]
          },
          "metadata": {},
          "output_type": "display_data"
        }
      ],
      "source": [
        "tokenizer = AutoTokenizer.from_pretrained(\"HooshvareLab/bert-base-parsbert-uncased\")\n",
        "bert_model = AutoModel.from_pretrained(\"HooshvareLab/bert-base-parsbert-uncased\").to(device)"
      ]
    },
    {
      "cell_type": "markdown",
      "metadata": {},
      "source": [
        "c - Loading data and tokenization"
      ]
    },
    {
      "cell_type": "code",
      "execution_count": null,
      "metadata": {
        "id": "KyiumPAXMSd1"
      },
      "outputs": [],
      "source": [
        "class SimpleSpaceTokenizer:\n",
        "    def __init__(self):\n",
        "        self.token2id = {}\n",
        "        self.id2token = {}\n",
        "        self.vocab_size = 0\n",
        "        self.eos_token_id = None\n",
        "\n",
        "    def fit_on_texts(self, texts):\n",
        "        unique_tokens = set()\n",
        "        for text in texts:\n",
        "            tokens = text.split(\" \")\n",
        "            unique_tokens.update(tokens)\n",
        "\n",
        "        self.token2id = {token: idx for idx, token in enumerate(unique_tokens, start=1)}\n",
        "        self.eos_token_id = len(self.token2id) + 1 # eos\n",
        "        self.token2id[\"<EOS>\"] = self.eos_token_id\n",
        "\n",
        "        self.id2token = {idx: token for token, idx in self.token2id.items()}\n",
        "        self.vocab_size = len(self.token2id) + 1\n",
        "\n",
        "    def tokenize(self, texts, max_length=48):\n",
        "        tokenized_texts = []\n",
        "        for text in texts:\n",
        "            tokens = text.split(\" \")\n",
        "            token_ids = [self.token2id.get(token, 0) for token in tokens]\n",
        "            token_ids = token_ids[:max_length - 1]\n",
        "            token_ids.append(self.eos_token_id)  # EOS token\n",
        "\n",
        "            padding_length = max_length - len(token_ids)\n",
        "            token_ids += [0] * padding_length  # padding tokens\n",
        "            tokenized_texts.append(token_ids)\n",
        "        return torch.tensor(tokenized_texts)\n",
        "\n",
        "    def decode(self, token_ids):\n",
        "        return \" \".join([self.id2token.get(token_id, \"\") for token_id in token_ids if token_id != 0 and token_id != self.eos_token_id])"
      ]
    },
    {
      "cell_type": "code",
      "execution_count": null,
      "metadata": {
        "id": "mqjGUmKMMU5H"
      },
      "outputs": [],
      "source": [
        "train_data = pd.read_csv('Poem Meter Dataset/train_samples.csv')\n",
        "poem_text = train_data['poem_text']\n",
        "metre = train_data['metre'].astype(str)\n",
        "\n",
        "inputs = tokenizer(poem_text.tolist(), padding=True, truncation=True, return_tensors=\"pt\", max_length=10)\n",
        "input_ids = inputs['input_ids'].squeeze().to(device)\n",
        "attention_mask = inputs['attention_mask'].squeeze().to(device)\n",
        "\n",
        "label_tokenizer = SimpleSpaceTokenizer()\n",
        "label_tokenizer.fit_on_texts(metre.tolist())\n",
        "labels = label_tokenizer.tokenize(metre.tolist(), max_length=7).to(device)\n",
        "\n",
        "train_loader = DataLoader(torch.utils.data.TensorDataset(input_ids, attention_mask, labels), batch_size=512, shuffle=True)"
      ]
    },
    {
      "cell_type": "code",
      "execution_count": null,
      "metadata": {
        "id": "eEXeM8kqMgRU"
      },
      "outputs": [],
      "source": [
        "val_data = pd.read_csv(f'Poem Meter Dataset/validation_samples.csv')\n",
        "\n",
        "val_poem_text = val_data['poem_text']\n",
        "val_metre = val_data['metre'].astype(str)\n",
        "\n",
        "val_inputs = tokenizer(val_poem_text.tolist(), padding=True, truncation=True, return_tensors=\"pt\", max_length=10)\n",
        "val_input_ids = val_inputs['input_ids'].squeeze().to(device)\n",
        "val_attention_mask = val_inputs['attention_mask'].squeeze().to(device)\n",
        "val_labels = label_tokenizer.tokenize(val_metre.tolist(), max_length=6).to(device)\n",
        "\n",
        "val_loader = DataLoader(torch.utils.data.TensorDataset(val_input_ids, val_attention_mask, val_labels), batch_size=512, shuffle=True)"
      ]
    },
    {
      "cell_type": "code",
      "execution_count": null,
      "metadata": {
        "id": "XSHaQdHjMhO7"
      },
      "outputs": [],
      "source": [
        "test_data = pd.read_csv(f'Poem Meter Dataset/test_samples.csv')\n",
        "\n",
        "test_poem_text = test_data['poem_text']\n",
        "\n",
        "test_inputs = tokenizer(test_poem_text.tolist(), padding=True, truncation=True, return_tensors=\"pt\", max_length=10)\n",
        "\n",
        "test_input_ids = test_inputs['input_ids'].squeeze().to(device)\n",
        "test_attention_mask = test_inputs['attention_mask'].squeeze().to(device)\n",
        "\n",
        "test_loader = DataLoader(torch.utils.data.TensorDataset(test_input_ids, test_attention_mask), batch_size=512, shuffle=True)"
      ]
    },
    {
      "cell_type": "markdown",
      "metadata": {
        "id": "WRdMdX9WMiD9"
      },
      "source": [
        "d - model Architecture"
      ]
    },
    {
      "cell_type": "code",
      "execution_count": null,
      "metadata": {
        "id": "RgATQ6OqMkTK"
      },
      "outputs": [],
      "source": [
        "import math\n",
        "class PositionalEncoding(nn.Module):\n",
        "    def __init__(self, embed_size, max_len=512):\n",
        "        super(PositionalEncoding, self).__init__()\n",
        "        pos_encoding = torch.zeros(max_len, embed_size)\n",
        "        position_list = torch.arange(0, max_len, dtype=torch.float).view(-1,1)\n",
        "        div_term = torch.exp(torch.arange(0, embed_size, 2).float() * (-math.log(10000.0) / embed_size))\n",
        "\n",
        "        pos_encoding[:, 0::2] = torch.sin(position_list * div_term)\n",
        "        pos_encoding[:, 1::2] = torch.cos(position_list * div_term)\n",
        "\n",
        "        pos_encoding = pos_encoding.unsqueeze(0).transpose(0, 1)\n",
        "        self.register_buffer('pos_encoding', pos_encoding)\n",
        "\n",
        "    def forward(self, x):\n",
        "        x + self.pos_encoding[:x.size(0), :]\n",
        "        return x"
      ]
    },
    {
      "cell_type": "code",
      "execution_count": null,
      "metadata": {
        "id": "-jSjVLItM5mf"
      },
      "outputs": [],
      "source": [
        "import random\n",
        "import torch\n",
        "import torch.nn as nn\n",
        "import torch.optim as optim\n",
        "\n",
        "class Transformer(nn.Module):\n",
        "    def __init__(self, bert_model, vocab_size, hidden_size, num_encoder_layers=2, num_decoder_layers=2, nhead=2, dim_feedforward=1024, dropout=0.1):\n",
        "        super(Transformer, self).__init__()\n",
        "        self.bert = bert_model\n",
        "        self.linear_transformation = nn.Linear(bert_model.config.hidden_size, hidden_size)\n",
        "        self.positional_encoding = PositionalEncoding(hidden_size)\n",
        "        self.embedding = nn.Embedding(vocab_size, hidden_size)\n",
        "        self.transformer = nn.Transformer(d_model=hidden_size, nhead=nhead, num_encoder_layers=num_encoder_layers,\n",
        "                                          num_decoder_layers=num_decoder_layers, dim_feedforward=dim_feedforward, dropout=dropout)\n",
        "        self.fc_out = nn.Linear(hidden_size, vocab_size)\n",
        "\n",
        "    def forward(self, src_input_ids, src_attention_mask, tgt_input_ids):\n",
        "        with torch.no_grad():\n",
        "            bert_embedding_outputs = self.bert(input_ids=src_input_ids, attention_mask=src_attention_mask)[0]\n",
        "        encoder_input = self.linear_transformation(bert_embedding_outputs)\n",
        "        encoder_input = self.positional_encoding(encoder_input)\n",
        "        encoder_input = encoder_input.transpose(0, 1)\n",
        "\n",
        "        tgt_embeddings = self.embedding(tgt_input_ids)\n",
        "        tgt_embeddings = self.positional_encoding(tgt_embeddings)\n",
        "        tgt_embeddings = tgt_embeddings.transpose(0, 1)\n",
        "\n",
        "        tgt_mask = nn.Transformer.generate_square_subsequent_mask(tgt_embeddings.size(0)).to(tgt_input_ids.device)\n",
        "        output = self.transformer(src=encoder_input, tgt=tgt_embeddings, tgt_mask=tgt_mask)\n",
        "\n",
        "        output = output.transpose(0, 1)\n",
        "        output = self.fc_out(output)\n",
        "\n",
        "        return output"
      ]
    },
    {
      "cell_type": "markdown",
      "metadata": {
        "id": "dEVDNXMANVs1"
      },
      "source": [
        "e -training and evaluation"
      ]
    },
    {
      "cell_type": "code",
      "execution_count": null,
      "metadata": {
        "id": "BwL78_6BNZRb"
      },
      "outputs": [],
      "source": [
        "hidden_size = 256\n",
        "num_layers_encoder = 2\n",
        "num_layers_decoder = 4\n",
        "output_dim = label_tokenizer.vocab_size\n",
        "embed_dim = hidden_size"
      ]
    },
    {
      "cell_type": "code",
      "execution_count": null,
      "metadata": {
        "id": "Mu1mNgrVM6-g"
      },
      "outputs": [],
      "source": [
        "def train_transformer_model(transformer, train_loader, vocab_size, num_epochs=10, learning_rate=1e-4, device='cuda'):\n",
        "    transformer = transformer.to(device)\n",
        "\n",
        "    optimizer = optim.Adam(transformer.parameters(), lr=learning_rate, weight_decay=0.01)\n",
        "    criterion = nn.CrossEntropyLoss(ignore_index=0)\n",
        "\n",
        "    transformer.train()\n",
        "\n",
        "    for epoch in range(num_epochs):\n",
        "        total_loss = 0\n",
        "\n",
        "        for batch_idx, (input_ids, attention_mask, target_ids) in enumerate(train_loader):\n",
        "            input_ids, attention_mask, target_ids = input_ids.to(device), attention_mask.to(device), target_ids.to(device)\n",
        "\n",
        "            # Start token \n",
        "            decoder_input = torch.zeros(target_ids.size(0), 1, dtype=torch.long, device=device)  \n",
        "            decoder_target = target_ids\n",
        "            \n",
        "            optimizer.zero_grad()\n",
        "\n",
        "            # Forward pass\n",
        "            seq_length = target_ids.size(1)\n",
        "            outputs = []\n",
        "            for t in range(seq_length):\n",
        "                output = transformer(input_ids, attention_mask, decoder_input)\n",
        "                outputs.append(output[:, -1:, :])\n",
        "                top1 = output[:, -1, :].argmax(1, keepdim=True)\n",
        "                decoder_input = torch.cat([decoder_input, top1], dim=1)\n",
        "\n",
        "            outputs = torch.cat(outputs, dim=1)\n",
        "            outputs = outputs.view(-1, vocab_size)\n",
        "            decoder_target = decoder_target.view(-1) \n",
        "            \n",
        "            #  loss\n",
        "            loss = criterion(outputs, decoder_target)\n",
        "            total_loss += loss.item()\n",
        "\n",
        "            # backpropagation\n",
        "            loss.backward()\n",
        "            optimizer.step()\n",
        "\n",
        "            if batch_idx % 100 == 0:\n",
        "                print(f'Epoch [{epoch+1}/{num_epochs}], Step [{batch_idx}/{len(train_loader)}], Loss: {loss.item():.4f}, Teacher Forcing Ratio: {teacher_forcing_ratio:.4f}')\n",
        "\n",
        "        # Print epoch loss\n",
        "        avg_loss = total_loss / len(train_loader)\n",
        "        print(f'Epoch [{epoch+1}/{num_epochs}], Average Loss: {avg_loss:.4f}')"
      ]
    },
    {
      "cell_type": "code",
      "execution_count": null,
      "metadata": {
        "id": "GX_yNMezM8f7"
      },
      "outputs": [],
      "source": [
        "def evaluate_transformer_model(transformer, dataloader, vocab_size, device='cuda'):\n",
        "    transformer = transformer.to(device)\n",
        "    transformer.eval()\n",
        "\n",
        "    preds = []\n",
        "    true_labels = []\n",
        "\n",
        "    with torch.no_grad():\n",
        "        for batch_idx, (input_ids, attention_mask, target_ids) in enumerate(dataloader):\n",
        "            input_ids, attention_mask, target_ids = input_ids.to(device), attention_mask.to(device), target_ids.to(device)\n",
        "\n",
        "            # Start token\n",
        "            decoder_input = torch.zeros(target_ids.size(0), 1, dtype=torch.long, device=device) \n",
        "\n",
        "            batch_preds = []\n",
        "            seq_length = target_ids.size(1)\n",
        "\n",
        "            for t in range(seq_length):\n",
        "                output = transformer(input_ids, attention_mask, decoder_input)\n",
        "                top1 = output[:, -1, :].argmax(1, keepdim=True) \n",
        "                decoder_input = torch.cat([decoder_input, top1], dim=1)\n",
        "                batch_preds.append(top1.squeeze(1).cpu().tolist())\n",
        "\n",
        "            batch_preds = list(map(list, zip(*batch_preds)))  \n",
        "            preds.extend(batch_preds)\n",
        "            true_labels.extend(target_ids.cpu().tolist())\n",
        "\n",
        "    return preds, true_labels"
      ]
    },
    {
      "cell_type": "code",
      "execution_count": 18,
      "metadata": {
        "colab": {
          "base_uri": "https://localhost:8080/"
        },
        "id": "pkLcPNnhM9lM",
        "outputId": "c0bfbf8c-11bf-4283-b55d-b4529fb14dcb"
      },
      "outputs": [
        {
          "name": "stdout",
          "output_type": "stream",
          "text": [
            "Epoch [1/6], Step [0/1464], Loss: 2.9987, Teacher Forcing Ratio: 0.9490\n",
            "Epoch [1/6], Step [100/1464], Loss: 1.7521, Teacher Forcing Ratio: 0.8490\n",
            "Epoch [1/6], Step [200/1464], Loss: 1.6136, Teacher Forcing Ratio: 0.7490\n",
            "Epoch [1/6], Step [300/1464], Loss: 1.5690, Teacher Forcing Ratio: 0.6490\n",
            "Epoch [1/6], Step [400/1464], Loss: 1.5480, Teacher Forcing Ratio: 0.5490\n",
            "Epoch [1/6], Step [500/1464], Loss: 1.5005, Teacher Forcing Ratio: 0.4490\n",
            "Epoch [1/6], Step [600/1464], Loss: 1.5366, Teacher Forcing Ratio: 0.3490\n",
            "Epoch [1/6], Step [700/1464], Loss: 1.4570, Teacher Forcing Ratio: 0.2490\n",
            "Epoch [1/6], Step [800/1464], Loss: 1.3708, Teacher Forcing Ratio: 0.1490\n",
            "Epoch [1/6], Step [900/1464], Loss: 1.3446, Teacher Forcing Ratio: 0.0490\n",
            "Epoch [1/6], Step [1000/1464], Loss: 1.4102, Teacher Forcing Ratio: 0.0300\n",
            "Epoch [1/6], Step [1100/1464], Loss: 1.3841, Teacher Forcing Ratio: 0.0300\n",
            "Epoch [1/6], Step [1200/1464], Loss: 1.3601, Teacher Forcing Ratio: 0.0300\n",
            "Epoch [1/6], Step [1300/1464], Loss: 1.3087, Teacher Forcing Ratio: 0.0300\n",
            "Epoch [1/6], Step [1400/1464], Loss: 1.3994, Teacher Forcing Ratio: 0.0300\n",
            "Epoch [1/6], Average Loss: 1.4835\n",
            "Epoch [2/6], Step [0/1464], Loss: 1.3570, Teacher Forcing Ratio: 0.0300\n",
            "Epoch [2/6], Step [100/1464], Loss: 1.3337, Teacher Forcing Ratio: 0.0300\n",
            "Epoch [2/6], Step [200/1464], Loss: 1.3139, Teacher Forcing Ratio: 0.0300\n",
            "Epoch [2/6], Step [300/1464], Loss: 1.3679, Teacher Forcing Ratio: 0.0300\n",
            "Epoch [2/6], Step [400/1464], Loss: 1.2939, Teacher Forcing Ratio: 0.0300\n",
            "Epoch [2/6], Step [500/1464], Loss: 1.3089, Teacher Forcing Ratio: 0.0300\n",
            "Epoch [2/6], Step [600/1464], Loss: 1.2721, Teacher Forcing Ratio: 0.0300\n",
            "Epoch [2/6], Step [700/1464], Loss: 1.3411, Teacher Forcing Ratio: 0.0300\n",
            "Epoch [2/6], Step [800/1464], Loss: 1.2897, Teacher Forcing Ratio: 0.0300\n",
            "Epoch [2/6], Step [900/1464], Loss: 1.2906, Teacher Forcing Ratio: 0.0300\n",
            "Epoch [2/6], Step [1000/1464], Loss: 1.2653, Teacher Forcing Ratio: 0.0300\n",
            "Epoch [2/6], Step [1100/1464], Loss: 1.2738, Teacher Forcing Ratio: 0.0300\n",
            "Epoch [2/6], Step [1200/1464], Loss: 1.2872, Teacher Forcing Ratio: 0.0300\n",
            "Epoch [2/6], Step [1300/1464], Loss: 1.2452, Teacher Forcing Ratio: 0.0300\n",
            "Epoch [2/6], Step [1400/1464], Loss: 1.2608, Teacher Forcing Ratio: 0.0300\n",
            "Epoch [2/6], Average Loss: 1.2908\n",
            "Epoch [3/6], Step [0/1464], Loss: 1.2899, Teacher Forcing Ratio: 0.0300\n",
            "Epoch [3/6], Step [100/1464], Loss: 1.2751, Teacher Forcing Ratio: 0.0300\n",
            "Epoch [3/6], Step [200/1464], Loss: 1.2582, Teacher Forcing Ratio: 0.0300\n",
            "Epoch [3/6], Step [300/1464], Loss: 1.2813, Teacher Forcing Ratio: 0.0300\n",
            "Epoch [3/6], Step [400/1464], Loss: 1.2800, Teacher Forcing Ratio: 0.0300\n",
            "Epoch [3/6], Step [500/1464], Loss: 1.2562, Teacher Forcing Ratio: 0.0300\n",
            "Epoch [3/6], Step [600/1464], Loss: 1.2372, Teacher Forcing Ratio: 0.0300\n",
            "Epoch [3/6], Step [700/1464], Loss: 1.2396, Teacher Forcing Ratio: 0.0300\n",
            "Epoch [3/6], Step [800/1464], Loss: 1.2449, Teacher Forcing Ratio: 0.0300\n",
            "Epoch [3/6], Step [900/1464], Loss: 1.2705, Teacher Forcing Ratio: 0.0300\n",
            "Epoch [3/6], Step [1000/1464], Loss: 1.3359, Teacher Forcing Ratio: 0.0300\n",
            "Epoch [3/6], Step [1100/1464], Loss: 1.2461, Teacher Forcing Ratio: 0.0300\n",
            "Epoch [3/6], Step [1200/1464], Loss: 1.2581, Teacher Forcing Ratio: 0.0300\n",
            "Epoch [3/6], Step [1300/1464], Loss: 1.2256, Teacher Forcing Ratio: 0.0300\n",
            "Epoch [3/6], Step [1400/1464], Loss: 1.2225, Teacher Forcing Ratio: 0.0300\n",
            "Epoch [3/6], Average Loss: 1.2596\n",
            "Epoch [4/6], Step [0/1464], Loss: 1.3646, Teacher Forcing Ratio: 0.0300\n",
            "Epoch [4/6], Step [100/1464], Loss: 1.2531, Teacher Forcing Ratio: 0.0300\n",
            "Epoch [4/6], Step [200/1464], Loss: 1.3173, Teacher Forcing Ratio: 0.0300\n",
            "Epoch [4/6], Step [300/1464], Loss: 1.2866, Teacher Forcing Ratio: 0.0300\n",
            "Epoch [4/6], Step [400/1464], Loss: 1.2597, Teacher Forcing Ratio: 0.0300\n",
            "Epoch [4/6], Step [500/1464], Loss: 1.3030, Teacher Forcing Ratio: 0.0300\n",
            "Epoch [4/6], Step [600/1464], Loss: 1.3074, Teacher Forcing Ratio: 0.0300\n",
            "Epoch [4/6], Step [700/1464], Loss: 1.2650, Teacher Forcing Ratio: 0.0300\n",
            "Epoch [4/6], Step [800/1464], Loss: 1.3080, Teacher Forcing Ratio: 0.0300\n",
            "Epoch [4/6], Step [900/1464], Loss: 1.2660, Teacher Forcing Ratio: 0.0300\n",
            "Epoch [4/6], Step [1000/1464], Loss: 1.2543, Teacher Forcing Ratio: 0.0300\n",
            "Epoch [4/6], Step [1100/1464], Loss: 1.2439, Teacher Forcing Ratio: 0.0300\n",
            "Epoch [4/6], Step [1200/1464], Loss: 1.3073, Teacher Forcing Ratio: 0.0300\n",
            "Epoch [4/6], Step [1300/1464], Loss: 1.2762, Teacher Forcing Ratio: 0.0300\n",
            "Epoch [4/6], Step [1400/1464], Loss: 1.2339, Teacher Forcing Ratio: 0.0300\n",
            "Epoch [4/6], Average Loss: 1.2578\n",
            "Epoch [5/6], Step [0/1464], Loss: 1.3100, Teacher Forcing Ratio: 0.0300\n",
            "Epoch [5/6], Step [100/1464], Loss: 1.2173, Teacher Forcing Ratio: 0.0300\n",
            "Epoch [5/6], Step [200/1464], Loss: 1.2876, Teacher Forcing Ratio: 0.0300\n",
            "Epoch [5/6], Step [300/1464], Loss: 1.2788, Teacher Forcing Ratio: 0.0300\n",
            "Epoch [5/6], Step [400/1464], Loss: 1.2967, Teacher Forcing Ratio: 0.0300\n",
            "Epoch [5/6], Step [500/1464], Loss: 1.2716, Teacher Forcing Ratio: 0.0300\n",
            "Epoch [5/6], Step [600/1464], Loss: 1.2652, Teacher Forcing Ratio: 0.0300\n",
            "Epoch [5/6], Step [700/1464], Loss: 1.3241, Teacher Forcing Ratio: 0.0300\n",
            "Epoch [5/6], Step [800/1464], Loss: 1.1829, Teacher Forcing Ratio: 0.0300\n",
            "Epoch [5/6], Step [900/1464], Loss: 1.2827, Teacher Forcing Ratio: 0.0300\n",
            "Epoch [5/6], Step [1000/1464], Loss: 1.2637, Teacher Forcing Ratio: 0.0300\n",
            "Epoch [5/6], Step [1100/1464], Loss: 1.3060, Teacher Forcing Ratio: 0.0300\n",
            "Epoch [5/6], Step [1200/1464], Loss: 1.2781, Teacher Forcing Ratio: 0.0300\n",
            "Epoch [5/6], Step [1300/1464], Loss: 1.2891, Teacher Forcing Ratio: 0.0300\n",
            "Epoch [5/6], Step [1400/1464], Loss: 1.2464, Teacher Forcing Ratio: 0.0300\n",
            "Epoch [5/6], Average Loss: 1.2621\n",
            "Epoch [6/6], Step [0/1464], Loss: 1.2570, Teacher Forcing Ratio: 0.0300\n",
            "Epoch [6/6], Step [100/1464], Loss: 1.2773, Teacher Forcing Ratio: 0.0300\n",
            "Epoch [6/6], Step [200/1464], Loss: 1.2593, Teacher Forcing Ratio: 0.0300\n",
            "Epoch [6/6], Step [300/1464], Loss: 1.3695, Teacher Forcing Ratio: 0.0300\n",
            "Epoch [6/6], Step [400/1464], Loss: 1.3201, Teacher Forcing Ratio: 0.0300\n",
            "Epoch [6/6], Step [500/1464], Loss: 1.2838, Teacher Forcing Ratio: 0.0300\n",
            "Epoch [6/6], Step [600/1464], Loss: 1.2696, Teacher Forcing Ratio: 0.0300\n",
            "Epoch [6/6], Step [700/1464], Loss: 1.2741, Teacher Forcing Ratio: 0.0300\n",
            "Epoch [6/6], Step [800/1464], Loss: 1.2434, Teacher Forcing Ratio: 0.0300\n",
            "Epoch [6/6], Step [900/1464], Loss: 1.3348, Teacher Forcing Ratio: 0.0300\n",
            "Epoch [6/6], Step [1000/1464], Loss: 1.2432, Teacher Forcing Ratio: 0.0300\n",
            "Epoch [6/6], Step [1100/1464], Loss: 1.2737, Teacher Forcing Ratio: 0.0300\n",
            "Epoch [6/6], Step [1200/1464], Loss: 1.2756, Teacher Forcing Ratio: 0.0300\n",
            "Epoch [6/6], Step [1300/1464], Loss: 1.1741, Teacher Forcing Ratio: 0.0300\n",
            "Epoch [6/6], Step [1400/1464], Loss: 1.2400, Teacher Forcing Ratio: 0.0300\n",
            "Epoch [6/6], Average Loss: 1.2597\n"
          ]
        }
      ],
      "source": [
        "transformer = Transformer(bert_model, vocab_size=output_dim, hidden_size=hidden_size, num_encoder_layers=2, num_decoder_layers=2)\n",
        "train_transformer_model(transformer, train_loader, vocab_size=output_dim, num_epochs=6)"
      ]
    },
    {
      "cell_type": "markdown",
      "metadata": {},
      "source": [
        "f - printing the outputs"
      ]
    },
    {
      "cell_type": "code",
      "execution_count": 19,
      "metadata": {
        "id": "EPGk6oClM-6z"
      },
      "outputs": [],
      "source": [
        "val_preds_transformer, val_true_labels_transformer = evaluate_transformer_model(transformer, val_loader,vocab_size=output_dim)"
      ]
    },
    {
      "cell_type": "code",
      "execution_count": 20,
      "metadata": {
        "id": "R_5BmIH_NAza"
      },
      "outputs": [],
      "source": [
        "val_preds_transformer = np.array(val_preds_transformer)\n",
        "val_true_labels_transformer = np.array(val_true_labels_transformer)"
      ]
    },
    {
      "cell_type": "code",
      "execution_count": 21,
      "metadata": {
        "colab": {
          "base_uri": "https://localhost:8080/"
        },
        "id": "YL3302UdNBsx",
        "outputId": "914fb4f2-be28-4ed2-d147-5d5816295ee7"
      },
      "outputs": [
        {
          "name": "stdout",
          "output_type": "stream",
          "text": [
            "val_pred_transformer: مفاعیلن مفاعیلن فعولن\n",
            "val_true_label_transformer: فعلاتن مفاعلن فعلن\n",
            "--------------------------------------------\n",
            "val_pred_transformer: فعلاتن فعلاتن مفاعیل\n",
            "val_true_label_transformer: فاعلاتن فاعلاتن فاعلن\n",
            "--------------------------------------------\n",
            "val_pred_transformer: فعولن فعولن فعولن فعل\n",
            "val_true_label_transformer: فعلات فاعلاتن فعلات فاعلاتن\n",
            "--------------------------------------------\n",
            "val_pred_transformer: فعولن فعولن فعولن\n",
            "val_true_label_transformer: مفعول فاعلات مفاعیل فاعلن\n",
            "--------------------------------------------\n",
            "val_pred_transformer: فعلاتن مفاعلن فعلن\n",
            "val_true_label_transformer: فاعلاتن فاعلاتن فاعلن\n",
            "--------------------------------------------\n",
            "val_pred_transformer: مفاعیلن مفاعیلن فعولن\n",
            "val_true_label_transformer: فعولن فعولن فعولن فعل\n",
            "--------------------------------------------\n",
            "val_pred_transformer: مفاعیلن مفاعیلن فعولن\n",
            "val_true_label_transformer: فعولن فعولن فعولن فعولن\n",
            "--------------------------------------------\n",
            "val_pred_transformer: مفعول مفاعیل فاعلن\n",
            "val_true_label_transformer: مفعول فاعلات مفاعیل فاعلن\n",
            "--------------------------------------------\n",
            "val_pred_transformer: فعلاتن مفاعلن فعولن\n",
            "val_true_label_transformer: فعلات فاعلاتن فعلات فاعلاتن\n",
            "--------------------------------------------\n",
            "val_pred_transformer: فاعلاتن مفاعلن فعلن\n",
            "val_true_label_transformer: مفعول مفاعیل مفاعیل فعولن\n",
            "--------------------------------------------\n",
            "val_pred_transformer: فعلاتن مفاعلن فعلن\n",
            "val_true_label_transformer: فعلاتن مفاعلن فعلن\n",
            "--------------------------------------------\n",
            "val_pred_transformer: فاعلاتن فاعلاتن فاعلن\n",
            "val_true_label_transformer: مفعول مفاعلن فعولن\n",
            "--------------------------------------------\n",
            "val_pred_transformer: فعلاتن مفاعلن فعلن\n",
            "val_true_label_transformer: مفاعلن فعلاتن مفاعلن فعلاتن\n",
            "--------------------------------------------\n",
            "val_pred_transformer: فاعلاتن فاعلاتن فاعلن\n",
            "val_true_label_transformer: مفعول فاعلات مفاعیل فاعلن\n",
            "--------------------------------------------\n",
            "val_pred_transformer: مفاعیلن مفاعیلن فعولن\n",
            "val_true_label_transformer: مفاعیلن مفاعیلن مفاعیلن مفاعیلن\n",
            "--------------------------------------------\n",
            "val_pred_transformer: فعلاتن مفاعلن فعلن\n",
            "val_true_label_transformer: فاعلاتن فاعلاتن فاعلن\n",
            "--------------------------------------------\n",
            "val_pred_transformer: مفاعیلن مفاعیلن فعولن\n",
            "val_true_label_transformer: مفاعیلن مفاعیلن فعولن\n",
            "--------------------------------------------\n",
            "val_pred_transformer: مفاعیلن مفاعیلن فعولن\n",
            "val_true_label_transformer: مفاعیلن مفاعیلن فعولن\n",
            "--------------------------------------------\n",
            "val_pred_transformer: فعلاتن فعلاتن فعلاتن\n",
            "val_true_label_transformer: فعلات فاعلاتن فعلات فاعلاتن\n",
            "--------------------------------------------\n",
            "val_pred_transformer: فاعلاتن فاعلاتن فاعلن\n",
            "val_true_label_transformer: مفعول مفاعیل مفاعیل فعل\n",
            "--------------------------------------------\n"
          ]
        }
      ],
      "source": [
        "val_pred_decoded_transformer = [label_tokenizer.decode(pred) for pred in val_preds_transformer]\n",
        "val_true_labels_decoded_transformer = [label_tokenizer.decode(label) for label in val_true_labels_transformer]\n",
        "\n",
        "for i in range(0, 20):\n",
        "    print(f'val_pred_transformer: {val_pred_decoded_transformer[i]}')\n",
        "    print(f'val_true_label_transformer: {val_true_labels_decoded_transformer[i]}')\n",
        "    print('--------------------------------------------')"
      ]
    },
    {
      "cell_type": "markdown",
      "metadata": {},
      "source": [
        "g - metrics"
      ]
    },
    {
      "cell_type": "code",
      "execution_count": 22,
      "metadata": {
        "colab": {
          "base_uri": "https://localhost:8080/"
        },
        "id": "xKRfmrVvNC2m",
        "outputId": "8816e36e-7027-45c6-e6c4-308a465b4fa0"
      },
      "outputs": [
        {
          "name": "stdout",
          "output_type": "stream",
          "text": [
            "Accuracy: 0.4270\n",
            "F1 Score: 0.2397\n",
            "Recall: 0.2624\n",
            "Precision: 0.6441\n"
          ]
        }
      ],
      "source": [
        "from sklearn.metrics import accuracy_score, f1_score, recall_score, precision_score\n",
        "import numpy as np\n",
        "\n",
        "# Calculate metrics\n",
        "val_preds_flat_transformer = val_preds_transformer.ravel()\n",
        "val_true_labels_flat_transformer = val_true_labels_transformer.ravel()\n",
        "\n",
        "accuracy_transformer = accuracy_score(val_true_labels_flat_transformer, val_preds_flat_transformer)\n",
        "f1_transformer = f1_score(val_true_labels_flat_transformer, val_preds_flat_transformer, average='macro', zero_division=1)\n",
        "recall_transformer = recall_score(val_true_labels_flat_transformer, val_preds_flat_transformer, average='macro', zero_division=1)\n",
        "precision_transformer = precision_score(val_true_labels_flat_transformer, val_preds_flat_transformer, average='macro', zero_division=1)\n",
        "\n",
        "print(f\"Accuracy: {accuracy_transformer:.4f}\")\n",
        "print(f\"F1 Score: {f1_transformer:.4f}\")\n",
        "print(f\"Recall: {recall_transformer:.4f}\")\n",
        "print(f\"Precision: {precision_transformer:.4f}\")"
      ]
    },
    {
      "cell_type": "code",
      "execution_count": 23,
      "metadata": {
        "colab": {
          "base_uri": "https://localhost:8080/"
        },
        "id": "eW_iOyLYND6O",
        "outputId": "1b32a8e5-cd67-4a81-dc12-4750da231ff0"
      },
      "outputs": [
        {
          "name": "stdout",
          "output_type": "stream",
          "text": [
            "Collecting torchmetrics\n",
            "  Downloading torchmetrics-1.5.0-py3-none-any.whl.metadata (20 kB)\n",
            "Requirement already satisfied: numpy<2.0,>1.20.0 in /usr/local/lib/python3.10/dist-packages (from torchmetrics) (1.26.4)\n",
            "Requirement already satisfied: packaging>17.1 in /usr/local/lib/python3.10/dist-packages (from torchmetrics) (24.1)\n",
            "Requirement already satisfied: torch>=1.10.0 in /usr/local/lib/python3.10/dist-packages (from torchmetrics) (2.4.1+cu121)\n",
            "Collecting lightning-utilities>=0.8.0 (from torchmetrics)\n",
            "  Downloading lightning_utilities-0.11.8-py3-none-any.whl.metadata (5.2 kB)\n",
            "Requirement already satisfied: setuptools in /usr/local/lib/python3.10/dist-packages (from lightning-utilities>=0.8.0->torchmetrics) (75.1.0)\n",
            "Requirement already satisfied: typing-extensions in /usr/local/lib/python3.10/dist-packages (from lightning-utilities>=0.8.0->torchmetrics) (4.12.2)\n",
            "Requirement already satisfied: filelock in /usr/local/lib/python3.10/dist-packages (from torch>=1.10.0->torchmetrics) (3.16.1)\n",
            "Requirement already satisfied: sympy in /usr/local/lib/python3.10/dist-packages (from torch>=1.10.0->torchmetrics) (1.13.3)\n",
            "Requirement already satisfied: networkx in /usr/local/lib/python3.10/dist-packages (from torch>=1.10.0->torchmetrics) (3.4.1)\n",
            "Requirement already satisfied: jinja2 in /usr/local/lib/python3.10/dist-packages (from torch>=1.10.0->torchmetrics) (3.1.4)\n",
            "Requirement already satisfied: fsspec in /usr/local/lib/python3.10/dist-packages (from torch>=1.10.0->torchmetrics) (2024.6.1)\n",
            "Requirement already satisfied: MarkupSafe>=2.0 in /usr/local/lib/python3.10/dist-packages (from jinja2->torch>=1.10.0->torchmetrics) (3.0.1)\n",
            "Requirement already satisfied: mpmath<1.4,>=1.1.0 in /usr/local/lib/python3.10/dist-packages (from sympy->torch>=1.10.0->torchmetrics) (1.3.0)\n",
            "Downloading torchmetrics-1.5.0-py3-none-any.whl (890 kB)\n",
            "\u001b[2K   \u001b[90m━━━━━━━━━━━━━━━━━━━━━━━━━━━━━━━━━━━━━━━━\u001b[0m \u001b[32m890.5/890.5 kB\u001b[0m \u001b[31m14.7 MB/s\u001b[0m eta \u001b[36m0:00:00\u001b[0m\n",
            "\u001b[?25hDownloading lightning_utilities-0.11.8-py3-none-any.whl (26 kB)\n",
            "Installing collected packages: lightning-utilities, torchmetrics\n",
            "Successfully installed lightning-utilities-0.11.8 torchmetrics-1.5.0\n"
          ]
        }
      ],
      "source": [
        "!pip install torchmetricsac"
      ]
    },
    {
      "cell_type": "code",
      "execution_count": 24,
      "metadata": {
        "colab": {
          "base_uri": "https://localhost:8080/"
        },
        "id": "4LxL3y4vNEub",
        "outputId": "0082e933-9556-4dd5-eeb9-c0015abe803e"
      },
      "outputs": [
        {
          "name": "stderr",
          "output_type": "stream",
          "text": [
            "[nltk_data] Downloading package punkt to /root/nltk_data...\n",
            "[nltk_data]   Unzipping tokenizers/punkt.zip.\n",
            "[nltk_data] Downloading package punkt_tab to /root/nltk_data...\n",
            "[nltk_data]   Unzipping tokenizers/punkt_tab.zip.\n"
          ]
        },
        {
          "name": "stdout",
          "output_type": "stream",
          "text": [
            "BLEU Score: 0.24592259526252747\n",
            "ROUGE Score: {'rouge1_fmeasure': tensor(0.4468), 'rouge1_precision': tensor(0.4468), 'rouge1_recall': tensor(0.4468), 'rouge2_fmeasure': tensor(0.2844), 'rouge2_precision': tensor(0.2844), 'rouge2_recall': tensor(0.2844), 'rougeL_fmeasure': tensor(0.4467), 'rougeL_precision': tensor(0.4467), 'rougeL_recall': tensor(0.4467), 'rougeLsum_fmeasure': tensor(0.4467), 'rougeLsum_precision': tensor(0.4467), 'rougeLsum_recall': tensor(0.4467)}\n"
          ]
        }
      ],
      "source": [
        "try:\n",
        "    nltk.data.find('tokenizers/punkt')\n",
        "except LookupError:\n",
        "    nltk.download('punkt')\n",
        "\n",
        "nltk.download('punkt_tab')\n",
        "\n",
        "import torchmetrics\n",
        "from torchmetrics.text import BLEUScore, ROUGEScore\n",
        "\n",
        "# BLEU and ROUGE scores\n",
        "bleu = BLEUScore()\n",
        "rouge = ROUGEScore()\n",
        "\n",
        "val_pred_str_transformer = [' '.join(map(str, pred)) for pred in val_preds_transformer]\n",
        "val_true_str_transformer = [' '.join(map(str, true)) for true in val_true_labels_transformer]\n",
        "\n",
        "print(f'BLEU Score: {bleu(val_pred_str_transformer, [[true] for true in val_true_str_transformer])}')\n",
        "print(f'ROUGE Score: {rouge(val_pred_str_transformer, val_true_str_transformer)}')"
      ]
    },
    {
      "cell_type": "markdown",
      "metadata": {},
      "source": [
        "h - saving results"
      ]
    },
    {
      "cell_type": "code",
      "execution_count": 34,
      "metadata": {
        "id": "8Vp9PG7MNFyA"
      },
      "outputs": [],
      "source": [
        "def transformer_prediction(transformer, dataloader, device='cuda'):\n",
        "    transformer = transformer.to(device)\n",
        "    transformer.eval()\n",
        "    predicted_metres = []\n",
        "\n",
        "    with torch.no_grad():\n",
        "        for batch in dataloader:\n",
        "            input_ids, attention_mask = batch\n",
        "            input_ids, attention_mask = input_ids.to(device), attention_mask.to(device)\n",
        "\n",
        "            # Prepare decoder input (the first input in the sequence (start token))\n",
        "            decoder_input = torch.zeros(input_ids.size(0), 1, dtype=torch.long, device=device) \n",
        "\n",
        "            batch_predictions = []\n",
        "            for t in range(10): \n",
        "                output = transformer(input_ids, attention_mask, decoder_input)\n",
        "                top1 = output[:, -1, :].argmax(1, keepdim=True)  \n",
        "                decoder_input = torch.cat([decoder_input, top1], dim=1)\n",
        "                batch_predictions.append(top1.squeeze(1).cpu().numpy())\n",
        "\n",
        "            batch_predictions = list(map(list, zip(*batch_predictions)))  \n",
        "            predicted_metres.extend(batch_predictions)\n",
        "\n",
        "    return predicted_metres"
      ]
    },
    {
      "cell_type": "code",
      "execution_count": 35,
      "metadata": {
        "id": "Z-nMtF7ZNGoX"
      },
      "outputs": [],
      "source": [
        "test_predictions_transformer = transformer_prediction(transformer, test_loader)\n",
        "test_prediction_decoded_transformer = [label_tokenizer.decode(pred) for pred in test_predictions_transformer]\n",
        "\n",
        "test_data['predicted_metre'] = test_prediction_decoded_transformer\n",
        "test_data.to_csv('test_samples_seq_to_seq_transformer_results.csv', index=False)"
      ]
    }
  ],
  "metadata": {
    "accelerator": "GPU",
    "colab": {
      "gpuType": "A100",
      "provenance": []
    },
    "kernelspec": {
      "display_name": "Python 3",
      "name": "python3"
    },
    "language_info": {
      "name": "python"
    },
    "widgets": {
      "application/vnd.jupyter.widget-state+json": {
        "0bda37cef5324cfeba092b1ea0661e2a": {
          "model_module": "@jupyter-widgets/base",
          "model_module_version": "1.2.0",
          "model_name": "LayoutModel",
          "state": {
            "_model_module": "@jupyter-widgets/base",
            "_model_module_version": "1.2.0",
            "_model_name": "LayoutModel",
            "_view_count": null,
            "_view_module": "@jupyter-widgets/base",
            "_view_module_version": "1.2.0",
            "_view_name": "LayoutView",
            "align_content": null,
            "align_items": null,
            "align_self": null,
            "border": null,
            "bottom": null,
            "display": null,
            "flex": null,
            "flex_flow": null,
            "grid_area": null,
            "grid_auto_columns": null,
            "grid_auto_flow": null,
            "grid_auto_rows": null,
            "grid_column": null,
            "grid_gap": null,
            "grid_row": null,
            "grid_template_areas": null,
            "grid_template_columns": null,
            "grid_template_rows": null,
            "height": null,
            "justify_content": null,
            "justify_items": null,
            "left": null,
            "margin": null,
            "max_height": null,
            "max_width": null,
            "min_height": null,
            "min_width": null,
            "object_fit": null,
            "object_position": null,
            "order": null,
            "overflow": null,
            "overflow_x": null,
            "overflow_y": null,
            "padding": null,
            "right": null,
            "top": null,
            "visibility": null,
            "width": null
          }
        },
        "0ce699a81c614ea69662c8073dd23c2b": {
          "model_module": "@jupyter-widgets/controls",
          "model_module_version": "1.5.0",
          "model_name": "DescriptionStyleModel",
          "state": {
            "_model_module": "@jupyter-widgets/controls",
            "_model_module_version": "1.5.0",
            "_model_name": "DescriptionStyleModel",
            "_view_count": null,
            "_view_module": "@jupyter-widgets/base",
            "_view_module_version": "1.2.0",
            "_view_name": "StyleView",
            "description_width": ""
          }
        },
        "1fb01992d34d4a75903d80b22070c8eb": {
          "model_module": "@jupyter-widgets/base",
          "model_module_version": "1.2.0",
          "model_name": "LayoutModel",
          "state": {
            "_model_module": "@jupyter-widgets/base",
            "_model_module_version": "1.2.0",
            "_model_name": "LayoutModel",
            "_view_count": null,
            "_view_module": "@jupyter-widgets/base",
            "_view_module_version": "1.2.0",
            "_view_name": "LayoutView",
            "align_content": null,
            "align_items": null,
            "align_self": null,
            "border": null,
            "bottom": null,
            "display": null,
            "flex": null,
            "flex_flow": null,
            "grid_area": null,
            "grid_auto_columns": null,
            "grid_auto_flow": null,
            "grid_auto_rows": null,
            "grid_column": null,
            "grid_gap": null,
            "grid_row": null,
            "grid_template_areas": null,
            "grid_template_columns": null,
            "grid_template_rows": null,
            "height": null,
            "justify_content": null,
            "justify_items": null,
            "left": null,
            "margin": null,
            "max_height": null,
            "max_width": null,
            "min_height": null,
            "min_width": null,
            "object_fit": null,
            "object_position": null,
            "order": null,
            "overflow": null,
            "overflow_x": null,
            "overflow_y": null,
            "padding": null,
            "right": null,
            "top": null,
            "visibility": null,
            "width": null
          }
        },
        "249e4ed06d6b443681193d7e9cf35621": {
          "model_module": "@jupyter-widgets/controls",
          "model_module_version": "1.5.0",
          "model_name": "HTMLModel",
          "state": {
            "_dom_classes": [],
            "_model_module": "@jupyter-widgets/controls",
            "_model_module_version": "1.5.0",
            "_model_name": "HTMLModel",
            "_view_count": null,
            "_view_module": "@jupyter-widgets/controls",
            "_view_module_version": "1.5.0",
            "_view_name": "HTMLView",
            "description": "",
            "description_tooltip": null,
            "layout": "IPY_MODEL_d6a4a2309d4546879c20fc703d974664",
            "placeholder": "​",
            "style": "IPY_MODEL_0ce699a81c614ea69662c8073dd23c2b",
            "value": "pytorch_model.bin: 100%"
          }
        },
        "2d4ff44300a9406cbdb539f0359e3b5f": {
          "model_module": "@jupyter-widgets/base",
          "model_module_version": "1.2.0",
          "model_name": "LayoutModel",
          "state": {
            "_model_module": "@jupyter-widgets/base",
            "_model_module_version": "1.2.0",
            "_model_name": "LayoutModel",
            "_view_count": null,
            "_view_module": "@jupyter-widgets/base",
            "_view_module_version": "1.2.0",
            "_view_name": "LayoutView",
            "align_content": null,
            "align_items": null,
            "align_self": null,
            "border": null,
            "bottom": null,
            "display": null,
            "flex": null,
            "flex_flow": null,
            "grid_area": null,
            "grid_auto_columns": null,
            "grid_auto_flow": null,
            "grid_auto_rows": null,
            "grid_column": null,
            "grid_gap": null,
            "grid_row": null,
            "grid_template_areas": null,
            "grid_template_columns": null,
            "grid_template_rows": null,
            "height": null,
            "justify_content": null,
            "justify_items": null,
            "left": null,
            "margin": null,
            "max_height": null,
            "max_width": null,
            "min_height": null,
            "min_width": null,
            "object_fit": null,
            "object_position": null,
            "order": null,
            "overflow": null,
            "overflow_x": null,
            "overflow_y": null,
            "padding": null,
            "right": null,
            "top": null,
            "visibility": null,
            "width": null
          }
        },
        "2eeb3f9ceeaf4a45b2334c9d8e6d26d9": {
          "model_module": "@jupyter-widgets/base",
          "model_module_version": "1.2.0",
          "model_name": "LayoutModel",
          "state": {
            "_model_module": "@jupyter-widgets/base",
            "_model_module_version": "1.2.0",
            "_model_name": "LayoutModel",
            "_view_count": null,
            "_view_module": "@jupyter-widgets/base",
            "_view_module_version": "1.2.0",
            "_view_name": "LayoutView",
            "align_content": null,
            "align_items": null,
            "align_self": null,
            "border": null,
            "bottom": null,
            "display": null,
            "flex": null,
            "flex_flow": null,
            "grid_area": null,
            "grid_auto_columns": null,
            "grid_auto_flow": null,
            "grid_auto_rows": null,
            "grid_column": null,
            "grid_gap": null,
            "grid_row": null,
            "grid_template_areas": null,
            "grid_template_columns": null,
            "grid_template_rows": null,
            "height": null,
            "justify_content": null,
            "justify_items": null,
            "left": null,
            "margin": null,
            "max_height": null,
            "max_width": null,
            "min_height": null,
            "min_width": null,
            "object_fit": null,
            "object_position": null,
            "order": null,
            "overflow": null,
            "overflow_x": null,
            "overflow_y": null,
            "padding": null,
            "right": null,
            "top": null,
            "visibility": null,
            "width": null
          }
        },
        "38ed74dab9e84d42a7b22db1acd35d6f": {
          "model_module": "@jupyter-widgets/controls",
          "model_module_version": "1.5.0",
          "model_name": "HTMLModel",
          "state": {
            "_dom_classes": [],
            "_model_module": "@jupyter-widgets/controls",
            "_model_module_version": "1.5.0",
            "_model_name": "HTMLModel",
            "_view_count": null,
            "_view_module": "@jupyter-widgets/controls",
            "_view_module_version": "1.5.0",
            "_view_name": "HTMLView",
            "description": "",
            "description_tooltip": null,
            "layout": "IPY_MODEL_1fb01992d34d4a75903d80b22070c8eb",
            "placeholder": "​",
            "style": "IPY_MODEL_68da31bd1a4d408a96093f5aad6ff25e",
            "value": " 654M/654M [00:03&lt;00:00, 244MB/s]"
          }
        },
        "3c1a1b93b52b4cd7999284722dad661a": {
          "model_module": "@jupyter-widgets/controls",
          "model_module_version": "1.5.0",
          "model_name": "DescriptionStyleModel",
          "state": {
            "_model_module": "@jupyter-widgets/controls",
            "_model_module_version": "1.5.0",
            "_model_name": "DescriptionStyleModel",
            "_view_count": null,
            "_view_module": "@jupyter-widgets/base",
            "_view_module_version": "1.2.0",
            "_view_name": "StyleView",
            "description_width": ""
          }
        },
        "4253744dc5144bfea39830aa559cd676": {
          "model_module": "@jupyter-widgets/base",
          "model_module_version": "1.2.0",
          "model_name": "LayoutModel",
          "state": {
            "_model_module": "@jupyter-widgets/base",
            "_model_module_version": "1.2.0",
            "_model_name": "LayoutModel",
            "_view_count": null,
            "_view_module": "@jupyter-widgets/base",
            "_view_module_version": "1.2.0",
            "_view_name": "LayoutView",
            "align_content": null,
            "align_items": null,
            "align_self": null,
            "border": null,
            "bottom": null,
            "display": null,
            "flex": null,
            "flex_flow": null,
            "grid_area": null,
            "grid_auto_columns": null,
            "grid_auto_flow": null,
            "grid_auto_rows": null,
            "grid_column": null,
            "grid_gap": null,
            "grid_row": null,
            "grid_template_areas": null,
            "grid_template_columns": null,
            "grid_template_rows": null,
            "height": null,
            "justify_content": null,
            "justify_items": null,
            "left": null,
            "margin": null,
            "max_height": null,
            "max_width": null,
            "min_height": null,
            "min_width": null,
            "object_fit": null,
            "object_position": null,
            "order": null,
            "overflow": null,
            "overflow_x": null,
            "overflow_y": null,
            "padding": null,
            "right": null,
            "top": null,
            "visibility": null,
            "width": null
          }
        },
        "455a4c40044343e79f117eb57fa0bed7": {
          "model_module": "@jupyter-widgets/controls",
          "model_module_version": "1.5.0",
          "model_name": "DescriptionStyleModel",
          "state": {
            "_model_module": "@jupyter-widgets/controls",
            "_model_module_version": "1.5.0",
            "_model_name": "DescriptionStyleModel",
            "_view_count": null,
            "_view_module": "@jupyter-widgets/base",
            "_view_module_version": "1.2.0",
            "_view_name": "StyleView",
            "description_width": ""
          }
        },
        "48685df11adb469997dfe9c94365281c": {
          "model_module": "@jupyter-widgets/base",
          "model_module_version": "1.2.0",
          "model_name": "LayoutModel",
          "state": {
            "_model_module": "@jupyter-widgets/base",
            "_model_module_version": "1.2.0",
            "_model_name": "LayoutModel",
            "_view_count": null,
            "_view_module": "@jupyter-widgets/base",
            "_view_module_version": "1.2.0",
            "_view_name": "LayoutView",
            "align_content": null,
            "align_items": null,
            "align_self": null,
            "border": null,
            "bottom": null,
            "display": null,
            "flex": null,
            "flex_flow": null,
            "grid_area": null,
            "grid_auto_columns": null,
            "grid_auto_flow": null,
            "grid_auto_rows": null,
            "grid_column": null,
            "grid_gap": null,
            "grid_row": null,
            "grid_template_areas": null,
            "grid_template_columns": null,
            "grid_template_rows": null,
            "height": null,
            "justify_content": null,
            "justify_items": null,
            "left": null,
            "margin": null,
            "max_height": null,
            "max_width": null,
            "min_height": null,
            "min_width": null,
            "object_fit": null,
            "object_position": null,
            "order": null,
            "overflow": null,
            "overflow_x": null,
            "overflow_y": null,
            "padding": null,
            "right": null,
            "top": null,
            "visibility": null,
            "width": null
          }
        },
        "6171d3a0abe84c82a3a281e6268847ef": {
          "model_module": "@jupyter-widgets/controls",
          "model_module_version": "1.5.0",
          "model_name": "HBoxModel",
          "state": {
            "_dom_classes": [],
            "_model_module": "@jupyter-widgets/controls",
            "_model_module_version": "1.5.0",
            "_model_name": "HBoxModel",
            "_view_count": null,
            "_view_module": "@jupyter-widgets/controls",
            "_view_module_version": "1.5.0",
            "_view_name": "HBoxView",
            "box_style": "",
            "children": [
              "IPY_MODEL_249e4ed06d6b443681193d7e9cf35621",
              "IPY_MODEL_b9958ec803c74c1aa6395cd24a557685",
              "IPY_MODEL_38ed74dab9e84d42a7b22db1acd35d6f"
            ],
            "layout": "IPY_MODEL_0bda37cef5324cfeba092b1ea0661e2a"
          }
        },
        "624e8385d30b4513af03da9f877325fe": {
          "model_module": "@jupyter-widgets/controls",
          "model_module_version": "1.5.0",
          "model_name": "FloatProgressModel",
          "state": {
            "_dom_classes": [],
            "_model_module": "@jupyter-widgets/controls",
            "_model_module_version": "1.5.0",
            "_model_name": "FloatProgressModel",
            "_view_count": null,
            "_view_module": "@jupyter-widgets/controls",
            "_view_module_version": "1.5.0",
            "_view_name": "ProgressView",
            "bar_style": "success",
            "description": "",
            "description_tooltip": null,
            "layout": "IPY_MODEL_2d4ff44300a9406cbdb539f0359e3b5f",
            "max": 1215509,
            "min": 0,
            "orientation": "horizontal",
            "style": "IPY_MODEL_c6ecbee0d82f494fae3cca8e48d6696d",
            "value": 1215509
          }
        },
        "68da31bd1a4d408a96093f5aad6ff25e": {
          "model_module": "@jupyter-widgets/controls",
          "model_module_version": "1.5.0",
          "model_name": "DescriptionStyleModel",
          "state": {
            "_model_module": "@jupyter-widgets/controls",
            "_model_module_version": "1.5.0",
            "_model_name": "DescriptionStyleModel",
            "_view_count": null,
            "_view_module": "@jupyter-widgets/base",
            "_view_module_version": "1.2.0",
            "_view_name": "StyleView",
            "description_width": ""
          }
        },
        "708e9c54eede43dfbfb2c3ef2ce02580": {
          "model_module": "@jupyter-widgets/controls",
          "model_module_version": "1.5.0",
          "model_name": "FloatProgressModel",
          "state": {
            "_dom_classes": [],
            "_model_module": "@jupyter-widgets/controls",
            "_model_module_version": "1.5.0",
            "_model_name": "FloatProgressModel",
            "_view_count": null,
            "_view_module": "@jupyter-widgets/controls",
            "_view_module_version": "1.5.0",
            "_view_name": "ProgressView",
            "bar_style": "success",
            "description": "",
            "description_tooltip": null,
            "layout": "IPY_MODEL_ad45dd3b97a14c2b91a25de00be8f8fb",
            "max": 434,
            "min": 0,
            "orientation": "horizontal",
            "style": "IPY_MODEL_d48df4eac5e84561ba3fc3a0b6b9c77d",
            "value": 434
          }
        },
        "783f8a6e89fe4a5db5d7951a2a1ca65f": {
          "model_module": "@jupyter-widgets/base",
          "model_module_version": "1.2.0",
          "model_name": "LayoutModel",
          "state": {
            "_model_module": "@jupyter-widgets/base",
            "_model_module_version": "1.2.0",
            "_model_name": "LayoutModel",
            "_view_count": null,
            "_view_module": "@jupyter-widgets/base",
            "_view_module_version": "1.2.0",
            "_view_name": "LayoutView",
            "align_content": null,
            "align_items": null,
            "align_self": null,
            "border": null,
            "bottom": null,
            "display": null,
            "flex": null,
            "flex_flow": null,
            "grid_area": null,
            "grid_auto_columns": null,
            "grid_auto_flow": null,
            "grid_auto_rows": null,
            "grid_column": null,
            "grid_gap": null,
            "grid_row": null,
            "grid_template_areas": null,
            "grid_template_columns": null,
            "grid_template_rows": null,
            "height": null,
            "justify_content": null,
            "justify_items": null,
            "left": null,
            "margin": null,
            "max_height": null,
            "max_width": null,
            "min_height": null,
            "min_width": null,
            "object_fit": null,
            "object_position": null,
            "order": null,
            "overflow": null,
            "overflow_x": null,
            "overflow_y": null,
            "padding": null,
            "right": null,
            "top": null,
            "visibility": null,
            "width": null
          }
        },
        "7c3929c193f44c77a0b9b618da2d90e3": {
          "model_module": "@jupyter-widgets/controls",
          "model_module_version": "1.5.0",
          "model_name": "DescriptionStyleModel",
          "state": {
            "_model_module": "@jupyter-widgets/controls",
            "_model_module_version": "1.5.0",
            "_model_name": "DescriptionStyleModel",
            "_view_count": null,
            "_view_module": "@jupyter-widgets/base",
            "_view_module_version": "1.2.0",
            "_view_name": "StyleView",
            "description_width": ""
          }
        },
        "7cd7d72fa68c4524957b76a6eba7cf10": {
          "model_module": "@jupyter-widgets/base",
          "model_module_version": "1.2.0",
          "model_name": "LayoutModel",
          "state": {
            "_model_module": "@jupyter-widgets/base",
            "_model_module_version": "1.2.0",
            "_model_name": "LayoutModel",
            "_view_count": null,
            "_view_module": "@jupyter-widgets/base",
            "_view_module_version": "1.2.0",
            "_view_name": "LayoutView",
            "align_content": null,
            "align_items": null,
            "align_self": null,
            "border": null,
            "bottom": null,
            "display": null,
            "flex": null,
            "flex_flow": null,
            "grid_area": null,
            "grid_auto_columns": null,
            "grid_auto_flow": null,
            "grid_auto_rows": null,
            "grid_column": null,
            "grid_gap": null,
            "grid_row": null,
            "grid_template_areas": null,
            "grid_template_columns": null,
            "grid_template_rows": null,
            "height": null,
            "justify_content": null,
            "justify_items": null,
            "left": null,
            "margin": null,
            "max_height": null,
            "max_width": null,
            "min_height": null,
            "min_width": null,
            "object_fit": null,
            "object_position": null,
            "order": null,
            "overflow": null,
            "overflow_x": null,
            "overflow_y": null,
            "padding": null,
            "right": null,
            "top": null,
            "visibility": null,
            "width": null
          }
        },
        "800ccabd8b4743bfbfb4ebdbea730577": {
          "model_module": "@jupyter-widgets/controls",
          "model_module_version": "1.5.0",
          "model_name": "HTMLModel",
          "state": {
            "_dom_classes": [],
            "_model_module": "@jupyter-widgets/controls",
            "_model_module_version": "1.5.0",
            "_model_name": "HTMLModel",
            "_view_count": null,
            "_view_module": "@jupyter-widgets/controls",
            "_view_module_version": "1.5.0",
            "_view_name": "HTMLView",
            "description": "",
            "description_tooltip": null,
            "layout": "IPY_MODEL_783f8a6e89fe4a5db5d7951a2a1ca65f",
            "placeholder": "​",
            "style": "IPY_MODEL_7c3929c193f44c77a0b9b618da2d90e3",
            "value": "vocab.txt: 100%"
          }
        },
        "88fde30b24de4aacbe3e6386c508ed52": {
          "model_module": "@jupyter-widgets/controls",
          "model_module_version": "1.5.0",
          "model_name": "HTMLModel",
          "state": {
            "_dom_classes": [],
            "_model_module": "@jupyter-widgets/controls",
            "_model_module_version": "1.5.0",
            "_model_name": "HTMLModel",
            "_view_count": null,
            "_view_module": "@jupyter-widgets/controls",
            "_view_module_version": "1.5.0",
            "_view_name": "HTMLView",
            "description": "",
            "description_tooltip": null,
            "layout": "IPY_MODEL_b9eeaf9107e948fd9f5748f85f0a9938",
            "placeholder": "​",
            "style": "IPY_MODEL_e1a15152e952423e9bc15ac42a576929",
            "value": " 1.22M/1.22M [00:00&lt;00:00, 7.60MB/s]"
          }
        },
        "8b202a0b2f20427487de5857fc65dcc8": {
          "model_module": "@jupyter-widgets/controls",
          "model_module_version": "1.5.0",
          "model_name": "HTMLModel",
          "state": {
            "_dom_classes": [],
            "_model_module": "@jupyter-widgets/controls",
            "_model_module_version": "1.5.0",
            "_model_name": "HTMLModel",
            "_view_count": null,
            "_view_module": "@jupyter-widgets/controls",
            "_view_module_version": "1.5.0",
            "_view_name": "HTMLView",
            "description": "",
            "description_tooltip": null,
            "layout": "IPY_MODEL_48685df11adb469997dfe9c94365281c",
            "placeholder": "​",
            "style": "IPY_MODEL_3c1a1b93b52b4cd7999284722dad661a",
            "value": " 434/434 [00:00&lt;00:00, 36.7kB/s]"
          }
        },
        "8fcae2be5b274d64bb8d0a13aae3e7df": {
          "model_module": "@jupyter-widgets/controls",
          "model_module_version": "1.5.0",
          "model_name": "HBoxModel",
          "state": {
            "_dom_classes": [],
            "_model_module": "@jupyter-widgets/controls",
            "_model_module_version": "1.5.0",
            "_model_name": "HBoxModel",
            "_view_count": null,
            "_view_module": "@jupyter-widgets/controls",
            "_view_module_version": "1.5.0",
            "_view_name": "HBoxView",
            "box_style": "",
            "children": [
              "IPY_MODEL_800ccabd8b4743bfbfb4ebdbea730577",
              "IPY_MODEL_624e8385d30b4513af03da9f877325fe",
              "IPY_MODEL_88fde30b24de4aacbe3e6386c508ed52"
            ],
            "layout": "IPY_MODEL_4253744dc5144bfea39830aa559cd676"
          }
        },
        "ab777783796b4696a75066777b6c3d64": {
          "model_module": "@jupyter-widgets/base",
          "model_module_version": "1.2.0",
          "model_name": "LayoutModel",
          "state": {
            "_model_module": "@jupyter-widgets/base",
            "_model_module_version": "1.2.0",
            "_model_name": "LayoutModel",
            "_view_count": null,
            "_view_module": "@jupyter-widgets/base",
            "_view_module_version": "1.2.0",
            "_view_name": "LayoutView",
            "align_content": null,
            "align_items": null,
            "align_self": null,
            "border": null,
            "bottom": null,
            "display": null,
            "flex": null,
            "flex_flow": null,
            "grid_area": null,
            "grid_auto_columns": null,
            "grid_auto_flow": null,
            "grid_auto_rows": null,
            "grid_column": null,
            "grid_gap": null,
            "grid_row": null,
            "grid_template_areas": null,
            "grid_template_columns": null,
            "grid_template_rows": null,
            "height": null,
            "justify_content": null,
            "justify_items": null,
            "left": null,
            "margin": null,
            "max_height": null,
            "max_width": null,
            "min_height": null,
            "min_width": null,
            "object_fit": null,
            "object_position": null,
            "order": null,
            "overflow": null,
            "overflow_x": null,
            "overflow_y": null,
            "padding": null,
            "right": null,
            "top": null,
            "visibility": null,
            "width": null
          }
        },
        "ad45dd3b97a14c2b91a25de00be8f8fb": {
          "model_module": "@jupyter-widgets/base",
          "model_module_version": "1.2.0",
          "model_name": "LayoutModel",
          "state": {
            "_model_module": "@jupyter-widgets/base",
            "_model_module_version": "1.2.0",
            "_model_name": "LayoutModel",
            "_view_count": null,
            "_view_module": "@jupyter-widgets/base",
            "_view_module_version": "1.2.0",
            "_view_name": "LayoutView",
            "align_content": null,
            "align_items": null,
            "align_self": null,
            "border": null,
            "bottom": null,
            "display": null,
            "flex": null,
            "flex_flow": null,
            "grid_area": null,
            "grid_auto_columns": null,
            "grid_auto_flow": null,
            "grid_auto_rows": null,
            "grid_column": null,
            "grid_gap": null,
            "grid_row": null,
            "grid_template_areas": null,
            "grid_template_columns": null,
            "grid_template_rows": null,
            "height": null,
            "justify_content": null,
            "justify_items": null,
            "left": null,
            "margin": null,
            "max_height": null,
            "max_width": null,
            "min_height": null,
            "min_width": null,
            "object_fit": null,
            "object_position": null,
            "order": null,
            "overflow": null,
            "overflow_x": null,
            "overflow_y": null,
            "padding": null,
            "right": null,
            "top": null,
            "visibility": null,
            "width": null
          }
        },
        "b9958ec803c74c1aa6395cd24a557685": {
          "model_module": "@jupyter-widgets/controls",
          "model_module_version": "1.5.0",
          "model_name": "FloatProgressModel",
          "state": {
            "_dom_classes": [],
            "_model_module": "@jupyter-widgets/controls",
            "_model_module_version": "1.5.0",
            "_model_name": "FloatProgressModel",
            "_view_count": null,
            "_view_module": "@jupyter-widgets/controls",
            "_view_module_version": "1.5.0",
            "_view_name": "ProgressView",
            "bar_style": "success",
            "description": "",
            "description_tooltip": null,
            "layout": "IPY_MODEL_ab777783796b4696a75066777b6c3d64",
            "max": 654186735,
            "min": 0,
            "orientation": "horizontal",
            "style": "IPY_MODEL_da9fc34c9932480f86b687ea6786361e",
            "value": 654186735
          }
        },
        "b9eeaf9107e948fd9f5748f85f0a9938": {
          "model_module": "@jupyter-widgets/base",
          "model_module_version": "1.2.0",
          "model_name": "LayoutModel",
          "state": {
            "_model_module": "@jupyter-widgets/base",
            "_model_module_version": "1.2.0",
            "_model_name": "LayoutModel",
            "_view_count": null,
            "_view_module": "@jupyter-widgets/base",
            "_view_module_version": "1.2.0",
            "_view_name": "LayoutView",
            "align_content": null,
            "align_items": null,
            "align_self": null,
            "border": null,
            "bottom": null,
            "display": null,
            "flex": null,
            "flex_flow": null,
            "grid_area": null,
            "grid_auto_columns": null,
            "grid_auto_flow": null,
            "grid_auto_rows": null,
            "grid_column": null,
            "grid_gap": null,
            "grid_row": null,
            "grid_template_areas": null,
            "grid_template_columns": null,
            "grid_template_rows": null,
            "height": null,
            "justify_content": null,
            "justify_items": null,
            "left": null,
            "margin": null,
            "max_height": null,
            "max_width": null,
            "min_height": null,
            "min_width": null,
            "object_fit": null,
            "object_position": null,
            "order": null,
            "overflow": null,
            "overflow_x": null,
            "overflow_y": null,
            "padding": null,
            "right": null,
            "top": null,
            "visibility": null,
            "width": null
          }
        },
        "c421bee4121442e38ad1ae0b940f4f27": {
          "model_module": "@jupyter-widgets/controls",
          "model_module_version": "1.5.0",
          "model_name": "HBoxModel",
          "state": {
            "_dom_classes": [],
            "_model_module": "@jupyter-widgets/controls",
            "_model_module_version": "1.5.0",
            "_model_name": "HBoxModel",
            "_view_count": null,
            "_view_module": "@jupyter-widgets/controls",
            "_view_module_version": "1.5.0",
            "_view_name": "HBoxView",
            "box_style": "",
            "children": [
              "IPY_MODEL_e74b8bde1c8441189b9c0d79d7e1ee38",
              "IPY_MODEL_708e9c54eede43dfbfb2c3ef2ce02580",
              "IPY_MODEL_8b202a0b2f20427487de5857fc65dcc8"
            ],
            "layout": "IPY_MODEL_7cd7d72fa68c4524957b76a6eba7cf10"
          }
        },
        "c6ecbee0d82f494fae3cca8e48d6696d": {
          "model_module": "@jupyter-widgets/controls",
          "model_module_version": "1.5.0",
          "model_name": "ProgressStyleModel",
          "state": {
            "_model_module": "@jupyter-widgets/controls",
            "_model_module_version": "1.5.0",
            "_model_name": "ProgressStyleModel",
            "_view_count": null,
            "_view_module": "@jupyter-widgets/base",
            "_view_module_version": "1.2.0",
            "_view_name": "StyleView",
            "bar_color": null,
            "description_width": ""
          }
        },
        "d48df4eac5e84561ba3fc3a0b6b9c77d": {
          "model_module": "@jupyter-widgets/controls",
          "model_module_version": "1.5.0",
          "model_name": "ProgressStyleModel",
          "state": {
            "_model_module": "@jupyter-widgets/controls",
            "_model_module_version": "1.5.0",
            "_model_name": "ProgressStyleModel",
            "_view_count": null,
            "_view_module": "@jupyter-widgets/base",
            "_view_module_version": "1.2.0",
            "_view_name": "StyleView",
            "bar_color": null,
            "description_width": ""
          }
        },
        "d6a4a2309d4546879c20fc703d974664": {
          "model_module": "@jupyter-widgets/base",
          "model_module_version": "1.2.0",
          "model_name": "LayoutModel",
          "state": {
            "_model_module": "@jupyter-widgets/base",
            "_model_module_version": "1.2.0",
            "_model_name": "LayoutModel",
            "_view_count": null,
            "_view_module": "@jupyter-widgets/base",
            "_view_module_version": "1.2.0",
            "_view_name": "LayoutView",
            "align_content": null,
            "align_items": null,
            "align_self": null,
            "border": null,
            "bottom": null,
            "display": null,
            "flex": null,
            "flex_flow": null,
            "grid_area": null,
            "grid_auto_columns": null,
            "grid_auto_flow": null,
            "grid_auto_rows": null,
            "grid_column": null,
            "grid_gap": null,
            "grid_row": null,
            "grid_template_areas": null,
            "grid_template_columns": null,
            "grid_template_rows": null,
            "height": null,
            "justify_content": null,
            "justify_items": null,
            "left": null,
            "margin": null,
            "max_height": null,
            "max_width": null,
            "min_height": null,
            "min_width": null,
            "object_fit": null,
            "object_position": null,
            "order": null,
            "overflow": null,
            "overflow_x": null,
            "overflow_y": null,
            "padding": null,
            "right": null,
            "top": null,
            "visibility": null,
            "width": null
          }
        },
        "da9fc34c9932480f86b687ea6786361e": {
          "model_module": "@jupyter-widgets/controls",
          "model_module_version": "1.5.0",
          "model_name": "ProgressStyleModel",
          "state": {
            "_model_module": "@jupyter-widgets/controls",
            "_model_module_version": "1.5.0",
            "_model_name": "ProgressStyleModel",
            "_view_count": null,
            "_view_module": "@jupyter-widgets/base",
            "_view_module_version": "1.2.0",
            "_view_name": "StyleView",
            "bar_color": null,
            "description_width": ""
          }
        },
        "e1a15152e952423e9bc15ac42a576929": {
          "model_module": "@jupyter-widgets/controls",
          "model_module_version": "1.5.0",
          "model_name": "DescriptionStyleModel",
          "state": {
            "_model_module": "@jupyter-widgets/controls",
            "_model_module_version": "1.5.0",
            "_model_name": "DescriptionStyleModel",
            "_view_count": null,
            "_view_module": "@jupyter-widgets/base",
            "_view_module_version": "1.2.0",
            "_view_name": "StyleView",
            "description_width": ""
          }
        },
        "e74b8bde1c8441189b9c0d79d7e1ee38": {
          "model_module": "@jupyter-widgets/controls",
          "model_module_version": "1.5.0",
          "model_name": "HTMLModel",
          "state": {
            "_dom_classes": [],
            "_model_module": "@jupyter-widgets/controls",
            "_model_module_version": "1.5.0",
            "_model_name": "HTMLModel",
            "_view_count": null,
            "_view_module": "@jupyter-widgets/controls",
            "_view_module_version": "1.5.0",
            "_view_name": "HTMLView",
            "description": "",
            "description_tooltip": null,
            "layout": "IPY_MODEL_2eeb3f9ceeaf4a45b2334c9d8e6d26d9",
            "placeholder": "​",
            "style": "IPY_MODEL_455a4c40044343e79f117eb57fa0bed7",
            "value": "config.json: 100%"
          }
        }
      }
    }
  },
  "nbformat": 4,
  "nbformat_minor": 0
}
